{
 "cells": [
  {
   "cell_type": "markdown",
   "metadata": {},
   "source": [
    "# Stiffness Matrix\n",
    "\n",
    "We assume that stiffness properties vary linearly between nodes:\n",
    "$$EI(\\eta) = EI_1 + (EI_2 - EI_1) \\eta$$\n",
    "\n",
    "The stiffness matrix is given by integrating (5.13, Yang):\n",
    "\\begin{equation}\n",
    "\\begin{aligned}\n",
    "k_{ij} &= \\int_0^L EI f_i^{\\prime\\prime} f_j^{\\prime\\prime} dx \\\\\n",
    "  &= L\\int_0^1 EI(\\eta) f_i^{\\prime\\prime}(\\eta) f_j^{\\prime\\prime}(\\eta) d\\eta \\\\\n",
    "\\end{aligned}\n",
    "\\end{equation}\n",
    "\n",
    "The second derivative of the shape functions for beams are given as (5.10, Yang):\n",
    "\\begin{align}\n",
    "f_1^{\\prime\\prime}(\\eta) &= \\frac{1}{L^2}\\left( -6 + 12 \\eta \\right)\\\\\n",
    "f_2^{\\prime\\prime}(\\eta) &= \\frac{1}{L} \\left( -4 + 6 \\eta\\right)\\\\\n",
    "f_3^{\\prime\\prime}(\\eta) &= \\frac{1}{L^2}\\left( 6 - 12 \\eta \\right)\\\\\n",
    "f_4^{\\prime\\prime}(\\eta) &= \\frac{1}{L} \\left( -2 + 6 \\eta\\right)\\\\\n",
    "\\end{align}\n",
    "\n",
    "The integrals are worked out below."
   ]
  },
  {
   "cell_type": "code",
   "execution_count": 23,
   "metadata": {},
   "outputs": [
    {
     "name": "stdout",
     "output_type": "stream",
     "text": [
      "6.0 6.0 3\n",
      "4.0 2.0 2\n",
      "-6.0 -6.0 3\n",
      "2.0 4.0 2\n",
      "\n",
      "3.0 1.0 1\n",
      "-4.0 -2.0 2\n",
      "1.0 1.0 1\n",
      "\n",
      "6.0 6.0 3\n",
      "-2.0 -4.0 2\n",
      "\n",
      "1.0 3.0 1\n"
     ]
    }
   ],
   "source": [
    "using Polynomials\n",
    "\n",
    "f1pp = Poly([-6.0, 12.0])\n",
    "f2pp = Poly([-4.0, 6.0])\n",
    "f3pp = Poly([6.0, -12.0])\n",
    "f4pp = Poly([-2.0, 6.0])\n",
    "\n",
    "e1 = Poly([1.0, -1.0])  # e2 is 0\n",
    "e2 = Poly([0.0, 1.0])  # e1 is 0\n",
    "\n",
    "function coeff(f1, f2, L1, L2)\n",
    "\n",
    "    pint = polyint(e1*f1*f2)\n",
    "    c1 = polyval(pint, 1.0) - polyval(pint, 0.0)\n",
    "\n",
    "    pint = polyint(e2*f1*f2)\n",
    "    c2 = polyval(pint, 1.0) - polyval(pint, 0.0)\n",
    "\n",
    "    println(c1, \" \", c2, \" \", L1 + L2 - 1)\n",
    "    \n",
    "end\n",
    "\n",
    "L1 = 2\n",
    "L2 = 1\n",
    "L3 = 2\n",
    "L4 = 1\n",
    "\n",
    "coeff(f1pp, f1pp, L1, L1)\n",
    "coeff(f1pp, f2pp, L1, L2)\n",
    "coeff(f1pp, f3pp, L1, L3)\n",
    "coeff(f1pp, f4pp, L1, L4)\n",
    "println()\n",
    "\n",
    "coeff(f2pp, f2pp, L2, L2)\n",
    "coeff(f2pp, f3pp, L2, L3)\n",
    "coeff(f2pp, f4pp, L2, L4)\n",
    "println()\n",
    "\n",
    "coeff(f3pp, f3pp, L3, L3)\n",
    "coeff(f3pp, f4pp, L3, L4)\n",
    "println()\n",
    "\n",
    "coeff(f4pp, f4pp, L4, L4)"
   ]
  },
  {
   "cell_type": "markdown",
   "metadata": {},
   "source": [
    "Mathematically, we can express the (symmetric) stiffness matrix as:\n",
    "\n",
    "$$\n",
    "\\begin{bmatrix}\n",
    "    F_1 \\\\ M_1 \\\\ F_2 \\\\ M_2\n",
    "\\end{bmatrix}\n",
    "= \n",
    "\\begin{bmatrix}\n",
    "    \\frac{6EI_1 + 6 EI_2}{L^3} & \\frac{4EI_1 + 2 EI_2}{L^2} & \\frac{-6EI_1 - 6 EI_2}{L^3} &\\frac{2EI_1 + 4 EI_2}{L^2}\\\\\n",
    "    sym & \\frac{3EI_1 + 1 EI_2}{L} & \\frac{-4EI_1 - 2 EI_2}{L^2} &\\frac{EI_1 + EI_2}{L}\\\\\n",
    "    sym & sym & \\frac{6EI_1 - 6 EI_2}{L^3} &\\frac{-2 EI_1  -4 EI_2}{L^2}\\\\\n",
    "    sym & sym & sym &\\frac{ EI_1 + 3 EI_2}{L}\\\\\n",
    "\\end{bmatrix}\n",
    "\\begin{bmatrix}\n",
    "    x_1 \\\\ \\theta_1 \\\\ x_2 \\\\ \\theta_2\n",
    "\\end{bmatrix}\n",
    "$$"
   ]
  },
  {
   "cell_type": "markdown",
   "metadata": {},
   "source": [
    "For axial (and torsional) stiffness, the stiffness matrix is given by (4.9, Yang):\n",
    "$$ k_{ij} = L \\int_0^1 EA(\\eta) f_i^\\prime(\\eta) f_j^\\prime(eta) d\\eta $$\n",
    "and the derivatives of the axial shape functions are:\n",
    "\\begin{align}\n",
    "f_1^\\prime &= -1/L\\\\\n",
    "f_2^\\prime &= 1/L\n",
    "\\end{align}\n",
    "\n",
    "We assume stiffness properties vary linearly yielding:\n",
    "\n",
    "$$\n",
    "\\begin{bmatrix}\n",
    "    F_1 \\\\ F_2\n",
    "\\end{bmatrix}\n",
    "= \\frac{EA_1 + EA_2}{2 L}\n",
    "\\begin{bmatrix}\n",
    "    1 & -1 \\\\\n",
    "    -1 & 1\n",
    "\\end{bmatrix}\n",
    "\\begin{bmatrix}\n",
    "    z_1 \\\\ z_2\n",
    "\\end{bmatrix}\n",
    "$$"
   ]
  },
  {
   "cell_type": "markdown",
   "metadata": {},
   "source": [
    "# Distributed Loads\n",
    "\n",
    "We assume that distributed loads vary linearly between nodes:\n",
    "$$p(\\eta) = p_1 + (p_2 - p_1) \\eta$$\n",
    "\n",
    "The equivalent concentrated loads are given by integrating (5.73, Yang):\n",
    "\\begin{equation}\n",
    "\\begin{aligned}\n",
    "F_i &= \\int_0^L p(x) f_i(x) dx \\\\\n",
    "&= L \\int_0^1 p(\\eta) f_i(\\eta) d\\eta \\\\\n",
    "\\end{aligned}\n",
    "\\end{equation}\n",
    "\n",
    "The shape functions for beams are given as (5.7, Yang):\n",
    "\\begin{align}\n",
    "f_1(\\eta) &= 1 - 3\\eta^2 + 2 \\eta^3\\\\\n",
    "f_2(\\eta) &= L \\left( \\eta - 2\\eta^2 + \\eta^3 \\right)\\\\\n",
    "f_3(\\eta) &= 3\\eta^2 - 2 \\eta^3\\\\\n",
    "f_4(\\eta) &= L \\left( - \\eta^2 + \\eta^3 \\right)\n",
    "\\end{align}"
   ]
  },
  {
   "cell_type": "markdown",
   "metadata": {},
   "source": [
    "The integrals are worked out below."
   ]
  },
  {
   "cell_type": "code",
   "execution_count": 14,
   "metadata": {},
   "outputs": [
    {
     "name": "stdout",
     "output_type": "stream",
     "text": [
      "0.35 0.15000000000000002\n",
      "0.050000000000000044 0.033333333333333326\n",
      "0.15000000000000002 0.35\n",
      "-0.033333333333333326 -0.04999999999999999\n"
     ]
    }
   ],
   "source": [
    "\n",
    "f1 = Poly([1.0, 0.0, -3.0, 2.0])\n",
    "f2 = Poly([0.0, 1.0, -2.0, 1.0])\n",
    "f3 = Poly([0.0, 0.0, 3.0, -2.0])\n",
    "f4 = Poly([0.0, 0.0, -1.0, 1.0])\n",
    "\n",
    "p1 = Poly([1.0, -1.0])  # p2 is 0\n",
    "p2 = Poly([0.0, 1.0])  # p1 is 0\n",
    "\n",
    "function coeff(f)\n",
    "\n",
    "    pint = polyint(p1*f)\n",
    "    c1 = polyval(pint, 1.0) - polyval(pint, 0.0)\n",
    "\n",
    "    pint = polyint(p2*f)\n",
    "    c2 = polyval(pint, 1.0) - polyval(pint, 0.0)\n",
    "\n",
    "    println(c1, \" \", c2)\n",
    "    \n",
    "end\n",
    "\n",
    "coeff(f1)\n",
    "coeff(f2)\n",
    "coeff(f3)\n",
    "coeff(f4)"
   ]
  },
  {
   "cell_type": "markdown",
   "metadata": {},
   "source": [
    "mathematically:\n",
    "\\begin{align}\n",
    "F_{x1} &= L \\left[ \\frac{7}{20} p_1 + \\frac{3}{20} p_2 \\right]\\\\\n",
    "M_{x1} &= L^2 \\left[ \\frac{1}{20} p_1 + \\frac{1}{30} p_2 \\right]\\\\\n",
    "F_{x2} &= L \\left[ \\frac{3}{20} p_1 + \\frac{7}{20} p_2 \\right]\\\\\n",
    "M_{x2} &= L^2 \\left[ -\\frac{1}{30} p_1 - \\frac{1}{20} p_2 \\right]\n",
    "\\end{align}\n"
   ]
  },
  {
   "cell_type": "markdown",
   "metadata": {},
   "source": [
    "The axial loads are similar, but simpler to calculate.  Using the shape functions for the axial loads:\n",
    "\\begin{align}\n",
    "f_1 &= 1 - \\eta\\\\\n",
    "f_2 &= \\eta\\\\\n",
    "\\end{align}\n",
    "The integral yields:\n",
    "\\begin{align}\n",
    "F_1 &= L \\left[ \\frac{p_1}{3} + \\frac{p_2}{6} \\right]\\\\\n",
    "F_2 &= L \\left[ \\frac{p_1}{6} + \\frac{p_2}{3} \\right]\\\\\n",
    "\\end{align}"
   ]
  },
  {
   "cell_type": "code",
   "execution_count": null,
   "metadata": {},
   "outputs": [],
   "source": []
  }
 ],
 "metadata": {
  "kernelspec": {
   "display_name": "Julia 0.6.0",
   "language": "julia",
   "name": "julia-0.6"
  },
  "language_info": {
   "file_extension": ".jl",
   "mimetype": "application/julia",
   "name": "julia",
   "version": "0.6.0"
  }
 },
 "nbformat": 4,
 "nbformat_minor": 2
}
